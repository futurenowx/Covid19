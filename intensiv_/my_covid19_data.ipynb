{
 "cells": [
  {
   "cell_type": "markdown",
   "metadata": {},
   "source": [
    "<h2>Corona Zahlen Deutschland und Bundesländer, sowie <br> \n",
    "    Krankenhausdaten Intensiv Behandlungen in deutschen Krankenhäusern<br>\n",
    "    im Vergleich zur Belegung durch andere Intensivfälle, sowie <br>\n",
    "    Entwicklung der Krankenhaus Landschaft, Betten Anzahl, <br>\n",
    "    Fallzahlen, Belegdauer, cc..</h2>"
   ]
  },
  {
   "cell_type": "markdown",
   "metadata": {},
   "source": [
    "Letztes Update 31.12.2020\n",
    "\n",
    "Quelle: https://www.divi.de/register/tagesreport \n",
    "        \n",
    "Daten werden durch Restart des Notebooks täglich aktualisiert\n",
    "\n",
    "Chart Erstellung mit Plotly (Plotly Python Open Source Graphing Library)\n",
    "\n",
    "Link: https://plotly.com/python/"
   ]
  },
  {
   "cell_type": "code",
   "execution_count": 1,
   "metadata": {},
   "outputs": [],
   "source": [
    "from __future__ import print_function\n",
    "import folium\n",
    "\n",
    "import pandas as pd\n",
    "import numpy as np\n",
    "import plotly.express as px\n",
    "import plotly.graph_objects as go\n",
    "\n",
    "import matplotlib.pyplot as plt\n",
    "%matplotlib inline\n",
    "\n",
    "from ipywidgets import interact, interactive, fixed, interact_manual\n",
    "import ipywidgets as widgets"
   ]
  },
  {
   "cell_type": "code",
   "execution_count": 2,
   "metadata": {},
   "outputs": [],
   "source": [
    "#load hospital data\n",
    "intensiv_org_df=pd.read_csv(\"https://www.divi.de/joomlatools-files/docman-files/divi-intensivregister-tagesreports-csv/DIVI-Intensivregister_2020-12-31_12-15.csv\")\n",
    "hospital_df=pd.read_csv('data/chart/hospital_beds_clients.csv',sep=';')\n",
    "germany_df=pd.read_csv('data/act/covid_germany_all.csv', sep=';')\n",
    "gemeinde_df=pd.read_csv('data/chart/gemeinde_key.csv', sep=';')\n",
    "\n",
    "#load R-Wert\n",
    "r_df=pd.read_csv('data/act/r_wert.csv', sep=';')\n",
    "\n",
    "#counties\n",
    "county_date_df=pd.read_csv('data/act/german_conf_heald_death_data.csv', sep=';')\n",
    "county_list_df=pd.read_csv('data/act/german_counties_conf_heald_death.csv', sep=';')\n",
    "country_list_df=pd.read_csv('data/act/german_d_conf_heald_death.csv', sep=';')"
   ]
  },
  {
   "cell_type": "code",
   "execution_count": 3,
   "metadata": {},
   "outputs": [],
   "source": [
    "#country_df.head()"
   ]
  },
  {
   "cell_type": "markdown",
   "metadata": {},
   "source": [
    "<h2>Entwicklung R-Wert 30.11-31.12.2020</h2>"
   ]
  },
  {
   "cell_type": "markdown",
   "metadata": {},
   "source": [
    "Quelle: https://www.rki.de/DE/Content/InfAZ/N/Neuartiges_Coronavirus/Projekte_RKI/Nowcasting_Zahlen.html"
   ]
  },
  {
   "cell_type": "code",
   "execution_count": 4,
   "metadata": {},
   "outputs": [
    {
     "data": {
      "text/html": [
       "<div>\n",
       "<style scoped>\n",
       "    .dataframe tbody tr th:only-of-type {\n",
       "        vertical-align: middle;\n",
       "    }\n",
       "\n",
       "    .dataframe tbody tr th {\n",
       "        vertical-align: top;\n",
       "    }\n",
       "\n",
       "    .dataframe thead th {\n",
       "        text-align: right;\n",
       "    }\n",
       "</style>\n",
       "<table border=\"1\" class=\"dataframe\">\n",
       "  <thead>\n",
       "    <tr style=\"text-align: right;\">\n",
       "      <th></th>\n",
       "      <th>Datum</th>\n",
       "      <th>R_Wert</th>\n",
       "    </tr>\n",
       "  </thead>\n",
       "  <tbody>\n",
       "    <tr>\n",
       "      <th>26</th>\n",
       "      <td>26.12.21</td>\n",
       "      <td>0,75</td>\n",
       "    </tr>\n",
       "    <tr>\n",
       "      <th>24</th>\n",
       "      <td>24.12.21</td>\n",
       "      <td>0,77</td>\n",
       "    </tr>\n",
       "    <tr>\n",
       "      <th>25</th>\n",
       "      <td>25.12.21</td>\n",
       "      <td>0,77</td>\n",
       "    </tr>\n",
       "    <tr>\n",
       "      <th>23</th>\n",
       "      <td>23.12.21</td>\n",
       "      <td>0,81</td>\n",
       "    </tr>\n",
       "    <tr>\n",
       "      <th>22</th>\n",
       "      <td>22.12.21</td>\n",
       "      <td>0,86</td>\n",
       "    </tr>\n",
       "    <tr>\n",
       "      <th>21</th>\n",
       "      <td>21.12.21</td>\n",
       "      <td>0,9</td>\n",
       "    </tr>\n",
       "    <tr>\n",
       "      <th>20</th>\n",
       "      <td>20.12.21</td>\n",
       "      <td>0,93</td>\n",
       "    </tr>\n",
       "    <tr>\n",
       "      <th>19</th>\n",
       "      <td>19.12.20</td>\n",
       "      <td>0,97</td>\n",
       "    </tr>\n",
       "    <tr>\n",
       "      <th>18</th>\n",
       "      <td>18.12.20</td>\n",
       "      <td>0,97</td>\n",
       "    </tr>\n",
       "    <tr>\n",
       "      <th>17</th>\n",
       "      <td>17.12.20</td>\n",
       "      <td>0,99</td>\n",
       "    </tr>\n",
       "    <tr>\n",
       "      <th>16</th>\n",
       "      <td>16.12.20</td>\n",
       "      <td>1,01</td>\n",
       "    </tr>\n",
       "    <tr>\n",
       "      <th>15</th>\n",
       "      <td>15.12.20</td>\n",
       "      <td>1,04</td>\n",
       "    </tr>\n",
       "    <tr>\n",
       "      <th>0</th>\n",
       "      <td>30.11.20</td>\n",
       "      <td>1,04</td>\n",
       "    </tr>\n",
       "    <tr>\n",
       "      <th>14</th>\n",
       "      <td>14.12.20</td>\n",
       "      <td>1,05</td>\n",
       "    </tr>\n",
       "    <tr>\n",
       "      <th>10</th>\n",
       "      <td>10.12.20</td>\n",
       "      <td>1,05</td>\n",
       "    </tr>\n",
       "    <tr>\n",
       "      <th>12</th>\n",
       "      <td>12.12.20</td>\n",
       "      <td>1,06</td>\n",
       "    </tr>\n",
       "    <tr>\n",
       "      <th>13</th>\n",
       "      <td>13.12.20</td>\n",
       "      <td>1,06</td>\n",
       "    </tr>\n",
       "    <tr>\n",
       "      <th>11</th>\n",
       "      <td>11.12.20</td>\n",
       "      <td>1,08</td>\n",
       "    </tr>\n",
       "    <tr>\n",
       "      <th>9</th>\n",
       "      <td>09.12.20</td>\n",
       "      <td>1,09</td>\n",
       "    </tr>\n",
       "    <tr>\n",
       "      <th>1</th>\n",
       "      <td>01.12.20</td>\n",
       "      <td>1,09</td>\n",
       "    </tr>\n",
       "    <tr>\n",
       "      <th>8</th>\n",
       "      <td>08.12.20</td>\n",
       "      <td>1,12</td>\n",
       "    </tr>\n",
       "    <tr>\n",
       "      <th>2</th>\n",
       "      <td>02.12.20</td>\n",
       "      <td>1,12</td>\n",
       "    </tr>\n",
       "    <tr>\n",
       "      <th>7</th>\n",
       "      <td>07.12.20</td>\n",
       "      <td>1,14</td>\n",
       "    </tr>\n",
       "    <tr>\n",
       "      <th>6</th>\n",
       "      <td>06.12.20</td>\n",
       "      <td>1,14</td>\n",
       "    </tr>\n",
       "    <tr>\n",
       "      <th>4</th>\n",
       "      <td>04.12.20</td>\n",
       "      <td>1,14</td>\n",
       "    </tr>\n",
       "    <tr>\n",
       "      <th>3</th>\n",
       "      <td>03.12.20</td>\n",
       "      <td>1,14</td>\n",
       "    </tr>\n",
       "    <tr>\n",
       "      <th>5</th>\n",
       "      <td>05.12.20</td>\n",
       "      <td>1,15</td>\n",
       "    </tr>\n",
       "  </tbody>\n",
       "</table>\n",
       "</div>"
      ],
      "text/plain": [
       "       Datum R_Wert\n",
       "26  26.12.21   0,75\n",
       "24  24.12.21   0,77\n",
       "25  25.12.21   0,77\n",
       "23  23.12.21   0,81\n",
       "22  22.12.21   0,86\n",
       "21  21.12.21    0,9\n",
       "20  20.12.21   0,93\n",
       "19  19.12.20   0,97\n",
       "18  18.12.20   0,97\n",
       "17  17.12.20   0,99\n",
       "16  16.12.20   1,01\n",
       "15  15.12.20   1,04\n",
       "0   30.11.20   1,04\n",
       "14  14.12.20   1,05\n",
       "10  10.12.20   1,05\n",
       "12  12.12.20   1,06\n",
       "13  13.12.20   1,06\n",
       "11  11.12.20   1,08\n",
       "9   09.12.20   1,09\n",
       "1   01.12.20   1,09\n",
       "8   08.12.20   1,12\n",
       "2   02.12.20   1,12\n",
       "7   07.12.20   1,14\n",
       "6   06.12.20   1,14\n",
       "4   04.12.20   1,14\n",
       "3   03.12.20   1,14\n",
       "5   05.12.20   1,15"
      ]
     },
     "execution_count": 4,
     "metadata": {},
     "output_type": "execute_result"
    }
   ],
   "source": [
    "r_df1 = r_df.sort_values('R_Wert', ascending=True)\n",
    "r_df1.head(30)"
   ]
  },
  {
   "cell_type": "code",
   "execution_count": 5,
   "metadata": {},
   "outputs": [
    {
     "data": {
      "image/png": "[encoded data removed]",
      "text/plain": [
       "<Figure size 1224x576 with 1 Axes>"
      ]
     },
     "metadata": {
      "needs_background": "light"
     },
     "output_type": "display_data"
    }
   ],
   "source": [
    "plt.rcParams[\"figure.figsize\"] = (17,8)\n",
    "plt.xticks(rotation=70)\n",
    "\n",
    "\n",
    "# Change the line plot below to a scatter plot\n",
    "plt.scatter(r_df1.Datum, r_df1.R_Wert)\n",
    "# Make a line plot: year on the x-axis, pop on the y-axis\n",
    "plt.plot(r_df1.Datum, r_df1.R_Wert)\n",
    "\n",
    "plt.xlabel('Tage')\n",
    "plt.ylabel('R-Wert')\n",
    "plt.title('Entwicklung R-Wert')\n",
    "\n",
    "# Show plot\n",
    "plt.show()"
   ]
  },
  {
   "cell_type": "markdown",
   "metadata": {},
   "source": [
    "<h2>Corona Zahlen Deutschland - Positive-, Geheilte- und Todesfälle</h2>"
   ]
  },
  {
   "cell_type": "markdown",
   "metadata": {},
   "source": [
    "Quelle: https://www.rki.de/DE/Content/InfAZ/N/Neuartiges_Coronavirus/Fallzahlen.html"
   ]
  },
  {
   "cell_type": "code",
   "execution_count": 6,
   "metadata": {},
   "outputs": [
    {
     "data": {
      "text/html": [
       "<div>\n",
       "<style scoped>\n",
       "    .dataframe tbody tr th:only-of-type {\n",
       "        vertical-align: middle;\n",
       "    }\n",
       "\n",
       "    .dataframe tbody tr th {\n",
       "        vertical-align: top;\n",
       "    }\n",
       "\n",
       "    .dataframe thead th {\n",
       "        text-align: right;\n",
       "    }\n",
       "</style>\n",
       "<table border=\"1\" class=\"dataframe\">\n",
       "  <thead>\n",
       "    <tr style=\"text-align: right;\">\n",
       "      <th></th>\n",
       "      <th>Land</th>\n",
       "      <th>Erkrankte</th>\n",
       "      <th>+/- z. VT</th>\n",
       "      <th>Genesene</th>\n",
       "      <th>+/- z. VT.1</th>\n",
       "      <th>Todesfälle</th>\n",
       "      <th>+/- z. VT.2</th>\n",
       "    </tr>\n",
       "  </thead>\n",
       "  <tbody>\n",
       "    <tr>\n",
       "      <th>0</th>\n",
       "      <td>Deutschland</td>\n",
       "      <td>1.746.929</td>\n",
       "      <td>23.233</td>\n",
       "      <td>1.350.708</td>\n",
       "      <td>26098</td>\n",
       "      <td>33791</td>\n",
       "      <td>510</td>\n",
       "    </tr>\n",
       "  </tbody>\n",
       "</table>\n",
       "</div>"
      ],
      "text/plain": [
       "          Land  Erkrankte   +/- z. VT   Genesene   +/- z. VT.1  Todesfälle  \\\n",
       "0  Deutschland  1.746.929      23.233  1.350.708         26098       33791   \n",
       "\n",
       "    +/- z. VT.2  \n",
       "0           510  "
      ]
     },
     "execution_count": 6,
     "metadata": {},
     "output_type": "execute_result"
    }
   ],
   "source": [
    "country_list_df.head()"
   ]
  },
  {
   "cell_type": "markdown",
   "metadata": {},
   "source": [
    "<h2>Bundesländer 31.12.2020 +/- z. Vortag</h2>\n",
    "<br>"
   ]
  },
  {
   "cell_type": "code",
   "execution_count": 7,
   "metadata": {},
   "outputs": [
    {
     "data": {
      "text/html": [
       "<div>\n",
       "<style scoped>\n",
       "    .dataframe tbody tr th:only-of-type {\n",
       "        vertical-align: middle;\n",
       "    }\n",
       "\n",
       "    .dataframe tbody tr th {\n",
       "        vertical-align: top;\n",
       "    }\n",
       "\n",
       "    .dataframe thead th {\n",
       "        text-align: right;\n",
       "    }\n",
       "</style>\n",
       "<table border=\"1\" class=\"dataframe\">\n",
       "  <thead>\n",
       "    <tr style=\"text-align: right;\">\n",
       "      <th></th>\n",
       "      <th>Bundesland</th>\n",
       "      <th>Land</th>\n",
       "      <th>Erkrankte</th>\n",
       "      <th>+/- z. VT</th>\n",
       "      <th>Genesene</th>\n",
       "      <th>+/- z. VT.1</th>\n",
       "      <th>Todesfälle</th>\n",
       "      <th>+/- z. VT.2</th>\n",
       "    </tr>\n",
       "  </thead>\n",
       "  <tbody>\n",
       "    <tr>\n",
       "      <th>0</th>\n",
       "      <td>Nordrhein-Westfalen</td>\n",
       "      <td>Deutschland</td>\n",
       "      <td>396880</td>\n",
       "      <td>3695</td>\n",
       "      <td>318212</td>\n",
       "      <td>5040</td>\n",
       "      <td>6632</td>\n",
       "      <td>30</td>\n",
       "    </tr>\n",
       "    <tr>\n",
       "      <th>1</th>\n",
       "      <td>Bayern</td>\n",
       "      <td>Deutschland</td>\n",
       "      <td>328640</td>\n",
       "      <td>3703</td>\n",
       "      <td>257379</td>\n",
       "      <td>4364</td>\n",
       "      <td>6766</td>\n",
       "      <td>49</td>\n",
       "    </tr>\n",
       "    <tr>\n",
       "      <th>2</th>\n",
       "      <td>Baden-Württemberg</td>\n",
       "      <td>Deutschland</td>\n",
       "      <td>240888</td>\n",
       "      <td>2895</td>\n",
       "      <td>184170</td>\n",
       "      <td>3664</td>\n",
       "      <td>4840</td>\n",
       "      <td>51</td>\n",
       "    </tr>\n",
       "    <tr>\n",
       "      <th>3</th>\n",
       "      <td>Hessen</td>\n",
       "      <td>Deutschland</td>\n",
       "      <td>138379</td>\n",
       "      <td>1802</td>\n",
       "      <td>106220</td>\n",
       "      <td>1839</td>\n",
       "      <td>2887</td>\n",
       "      <td>42</td>\n",
       "    </tr>\n",
       "    <tr>\n",
       "      <th>4</th>\n",
       "      <td>Niedersachsen</td>\n",
       "      <td>Deutschland</td>\n",
       "      <td>135462</td>\n",
       "      <td>3041</td>\n",
       "      <td>97300</td>\n",
       "      <td>3300</td>\n",
       "      <td>3266</td>\n",
       "      <td>127</td>\n",
       "    </tr>\n",
       "    <tr>\n",
       "      <th>5</th>\n",
       "      <td>Berlin</td>\n",
       "      <td>Deutschland</td>\n",
       "      <td>108610</td>\n",
       "      <td>1818</td>\n",
       "      <td>90125</td>\n",
       "      <td>1287</td>\n",
       "      <td>2003</td>\n",
       "      <td>36</td>\n",
       "    </tr>\n",
       "    <tr>\n",
       "      <th>6</th>\n",
       "      <td>Rheinland-Pfalz</td>\n",
       "      <td>Deutschland</td>\n",
       "      <td>97445</td>\n",
       "      <td>643</td>\n",
       "      <td>77560</td>\n",
       "      <td>1310</td>\n",
       "      <td>1271</td>\n",
       "      <td>24</td>\n",
       "    </tr>\n",
       "    <tr>\n",
       "      <th>7</th>\n",
       "      <td>Sachsen</td>\n",
       "      <td>Deutschland</td>\n",
       "      <td>72822</td>\n",
       "      <td>775</td>\n",
       "      <td>52400</td>\n",
       "      <td>1141</td>\n",
       "      <td>1441</td>\n",
       "      <td>13</td>\n",
       "    </tr>\n",
       "    <tr>\n",
       "      <th>8</th>\n",
       "      <td>Hamburg</td>\n",
       "      <td>Deutschland</td>\n",
       "      <td>45730</td>\n",
       "      <td>1345</td>\n",
       "      <td>31166</td>\n",
       "      <td>995</td>\n",
       "      <td>1095</td>\n",
       "      <td>40</td>\n",
       "    </tr>\n",
       "    <tr>\n",
       "      <th>9</th>\n",
       "      <td>Brandenburg</td>\n",
       "      <td>Deutschland</td>\n",
       "      <td>43278</td>\n",
       "      <td>1244</td>\n",
       "      <td>29597</td>\n",
       "      <td>964</td>\n",
       "      <td>1012</td>\n",
       "      <td>17</td>\n",
       "    </tr>\n",
       "    <tr>\n",
       "      <th>10</th>\n",
       "      <td>Schleswig-Holstein</td>\n",
       "      <td>Deutschland</td>\n",
       "      <td>36989</td>\n",
       "      <td>568</td>\n",
       "      <td>26700</td>\n",
       "      <td>500</td>\n",
       "      <td>653</td>\n",
       "      <td>21</td>\n",
       "    </tr>\n",
       "    <tr>\n",
       "      <th>11</th>\n",
       "      <td>Thüringen</td>\n",
       "      <td>Deutschland</td>\n",
       "      <td>30480</td>\n",
       "      <td>938</td>\n",
       "      <td>22425</td>\n",
       "      <td>712</td>\n",
       "      <td>664</td>\n",
       "      <td>51</td>\n",
       "    </tr>\n",
       "    <tr>\n",
       "      <th>12</th>\n",
       "      <td>Saarland</td>\n",
       "      <td>Deutschland</td>\n",
       "      <td>25134</td>\n",
       "      <td>342</td>\n",
       "      <td>18375</td>\n",
       "      <td>292</td>\n",
       "      <td>427</td>\n",
       "      <td>2</td>\n",
       "    </tr>\n",
       "    <tr>\n",
       "      <th>13</th>\n",
       "      <td>Bremen</td>\n",
       "      <td>Deutschland</td>\n",
       "      <td>20338</td>\n",
       "      <td>158</td>\n",
       "      <td>17882</td>\n",
       "      <td>341</td>\n",
       "      <td>466</td>\n",
       "      <td>4</td>\n",
       "    </tr>\n",
       "    <tr>\n",
       "      <th>14</th>\n",
       "      <td>Sachsen-Anhalt</td>\n",
       "      <td>Deutschland</td>\n",
       "      <td>13683</td>\n",
       "      <td>108</td>\n",
       "      <td>12067</td>\n",
       "      <td>118</td>\n",
       "      <td>196</td>\n",
       "      <td>2</td>\n",
       "    </tr>\n",
       "    <tr>\n",
       "      <th>15</th>\n",
       "      <td>Mecklenburg-Vorpommern</td>\n",
       "      <td>Deutschland</td>\n",
       "      <td>12171</td>\n",
       "      <td>158</td>\n",
       "      <td>9130</td>\n",
       "      <td>231</td>\n",
       "      <td>172</td>\n",
       "      <td>1</td>\n",
       "    </tr>\n",
       "  </tbody>\n",
       "</table>\n",
       "</div>"
      ],
      "text/plain": [
       "                Bundesland         Land  Erkrankte   +/- z. VT  Genesene  \\\n",
       "0      Nordrhein-Westfalen  Deutschland     396880        3695    318212   \n",
       "1                   Bayern  Deutschland     328640        3703    257379   \n",
       "2        Baden-Württemberg  Deutschland     240888        2895    184170   \n",
       "3                   Hessen  Deutschland     138379        1802    106220   \n",
       "4            Niedersachsen  Deutschland     135462        3041     97300   \n",
       "5                   Berlin  Deutschland     108610        1818     90125   \n",
       "6          Rheinland-Pfalz  Deutschland      97445         643     77560   \n",
       "7                  Sachsen  Deutschland      72822         775     52400   \n",
       "8                  Hamburg  Deutschland      45730        1345     31166   \n",
       "9              Brandenburg  Deutschland      43278        1244     29597   \n",
       "10      Schleswig-Holstein  Deutschland      36989         568     26700   \n",
       "11               Thüringen  Deutschland      30480         938     22425   \n",
       "12                Saarland  Deutschland      25134         342     18375   \n",
       "13                  Bremen  Deutschland      20338         158     17882   \n",
       "14          Sachsen-Anhalt  Deutschland      13683         108     12067   \n",
       "15  Mecklenburg-Vorpommern  Deutschland      12171         158      9130   \n",
       "\n",
       "     +/- z. VT.1  Todesfälle   +/- z. VT.2  \n",
       "0           5040        6632            30  \n",
       "1           4364        6766            49  \n",
       "2           3664        4840            51  \n",
       "3           1839        2887            42  \n",
       "4           3300        3266           127  \n",
       "5           1287        2003            36  \n",
       "6           1310        1271            24  \n",
       "7           1141        1441            13  \n",
       "8            995        1095            40  \n",
       "9            964        1012            17  \n",
       "10           500         653            21  \n",
       "11           712         664            51  \n",
       "12           292         427             2  \n",
       "13           341         466             4  \n",
       "14           118         196             2  \n",
       "15           231         172             1  "
      ]
     },
     "execution_count": 7,
     "metadata": {},
     "output_type": "execute_result"
    }
   ],
   "source": [
    "county_list_df.head(16)"
   ]
  },
  {
   "cell_type": "code",
   "execution_count": null,
   "metadata": {},
   "outputs": [],
   "source": [
    "# Plot \n",
    "fig = px.line(county_list_df, x='Bundesland', y='Erkrankte')\n",
    "\n",
    "# Only thing I figured is - I could do this \n",
    "fig.add_scatter(x=county_list_df['Bundesland'], y=county_list_df['Erkrankte'], name='Erkrankte') # Not what is desired - need a line\n",
    "\n",
    "# Only thing I figured is - I could do this \n",
    "fig.add_scatter(x=county_list_df['Bundesland'], y=county_list_df['Genesene'], name='Genesene') # Not what is desired - need a line\n",
    "\n",
    "# Only thing I figured is - I could do this \n",
    "fig.add_scatter(x=county_list_df['Bundesland'], y=county_list_df['Todesfälle'], name='Todesfälle') # Not what is desired - need a line\n",
    "\n",
    "fig.update_yaxes(title_text='Erkrankte(R), Genesene(G), Todesfälle(L)')              \n",
    "              \n",
    "# Show plot \n",
    "fig.show(renderer=\"png\", width=1000, height=750)"
   ]
  },
  {
   "cell_type": "markdown",
   "metadata": {},
   "source": [
    "<h2>Entwicklung Erkrankte, Genesene, Todesfälle nach Datum 30.11-31.12.2020</h2>"
   ]
  },
  {
   "cell_type": "markdown",
   "metadata": {},
   "source": [
    "Die Zahlen sind nur die täglichen Zuwächse, keine Gesamtzahlen"
   ]
  },
  {
   "cell_type": "code",
   "execution_count": null,
   "metadata": {},
   "outputs": [],
   "source": [
    "county_date_df.head(100)"
   ]
  },
  {
   "cell_type": "code",
   "execution_count": null,
   "metadata": {},
   "outputs": [],
   "source": [
    "# Plot \n",
    "fig = px.line(county_date_df, x='Datum', y='Erkrankte')\n",
    "\n",
    "# Only thing I figured is - I could do this \n",
    "fig.add_scatter(x=county_date_df['Datum'], y=county_date_df['Erkrankte'], name='Erkrankte') # Not what is desired - need a line\n",
    "\n",
    "\n",
    "# Only thing I figured is - I could do this \n",
    "fig.add_scatter(x=county_date_df['Datum'], y=county_date_df['Genesene'], name='Genesene') # Not what is desired - need a line\n",
    "\n",
    "# Only thing I figured is - I could do this \n",
    "fig.add_scatter(x=county_date_df['Datum'], y=county_date_df['Todesfälle'], name='Todesfälle') # Not what is desired - need a line \n",
    "\n",
    "fig.update_yaxes(title_text='Erkrankte(R), Genesene(G), Todesfälle(L)') \n",
    "\n",
    "# Show plot \n",
    "fig.show(renderer=\"png\", width=1000, height=750)"
   ]
  },
  {
   "cell_type": "markdown",
   "metadata": {},
   "source": [
    "<h2>Corona Test und Positiv Zahlen Deutschland pro KW <br>\n",
    "und Hochrechnung als würde ab Frühjahr mit gleicher Testkappa getestet</h2>"
   ]
  },
  {
   "cell_type": "markdown",
   "metadata": {},
   "source": [
    "Quelle: RKI https://www.rki.de/DE/Content/InfAZ/N/Neuartiges_Coronavirus/Daten/Testzahlen-gesamt.xlsx?__blob=publicationFile"
   ]
  },
  {
   "cell_type": "code",
   "execution_count": null,
   "metadata": {},
   "outputs": [],
   "source": [
    "germany_df.head(48)"
   ]
  },
  {
   "cell_type": "markdown",
   "metadata": {},
   "source": [
    "<h2> Corona Positivkurven RKI (Rot) zu Hochgerechneten Zahlen (Grün) <br>\n",
    "    wenn man durchgängig ca. 1,3 Mio: Tests pro Tag durchgeführt hätte</h2>"
   ]
  },
  {
   "cell_type": "markdown",
   "metadata": {},
   "source": [
    "Quelle: Basis https://www.rki.de/DE/Content/InfAZ/N/Neuartiges_Coronavirus/Testzahl.html"
   ]
  },
  {
   "cell_type": "code",
   "execution_count": null,
   "metadata": {},
   "outputs": [],
   "source": [
    "# Plot \n",
    "fig = px.line(germany_df, x='cal_week', y='positiv1')\n",
    "\n",
    "# Only thing I figured is - I could do this \n",
    "fig.add_scatter(x=germany_df['cal_week'], y=germany_df['positiv1'], name='positiv1') # Not what is desired - need a line \n",
    "\n",
    "# Only thing I figured is - I could do this \n",
    "fig.add_scatter(x=germany_df['cal_week'], y=germany_df['positiv2'], name='positiv2') # Not what is desired - need a line \n",
    "\n",
    "fig.update_yaxes(title_text='RKI Zahl(R) zu Hochgerechnete Zahl(G)')\n",
    "\n",
    "# Show plot \n",
    "fig.show(renderer=\"png\", width=1000, height=750)"
   ]
  },
  {
   "cell_type": "markdown",
   "metadata": {},
   "source": [
    "<h2> Entwicklung Corona Intensiv Behandlung zu Krankenhaus Betten Belegung in D </h2>"
   ]
  },
  {
   "cell_type": "markdown",
   "metadata": {},
   "source": [
    "Daten werden durch Restart des Notebooks täglich aktualisiert\n",
    "\n",
    "Quelle: https://www.divi.de/register/tagesreport"
   ]
  },
  {
   "cell_type": "code",
   "execution_count": null,
   "metadata": {},
   "outputs": [],
   "source": [
    "del intensiv_org_df['gemeindeschluessel']\n",
    "intensiv_org_df['gemeindeschluessel'] = gemeinde_df\n",
    "intensiv_org_df.insert(7, \"betten_ges\", \"\")\n",
    "intensiv_org_df.insert(8, \"Ant_Covid_a_ges\", \"\")\n",
    "sum_column = intensiv_org_df[\"betten_frei\"] + intensiv_org_df[\"betten_belegt\"]\n",
    "intensiv_org_df[\"betten_ges\"] = sum_column\n",
    "sum_column2 = intensiv_org_df[\"faelle_covid_aktuell\"] / intensiv_org_df[\"betten_ges\"] * 100\n",
    "intensiv_org_df[\"Ant_Covid_a_ges\"] = sum_column2\n",
    "pd.options.display.float_format = '{:.2f}'.format"
   ]
  },
  {
   "cell_type": "code",
   "execution_count": null,
   "metadata": {},
   "outputs": [],
   "source": [
    "cols = intensiv_org_df.columns.tolist()\n",
    "# Rearrange the list any way you want\n",
    "cols = cols[-1:] + cols[:-1]\n",
    "intensiv_org_df = intensiv_org_df[cols]\n",
    "intensiv_df = intensiv_org_df"
   ]
  },
  {
   "cell_type": "code",
   "execution_count": null,
   "metadata": {},
   "outputs": [],
   "source": [
    "intensiv_df.head()"
   ]
  },
  {
   "cell_type": "code",
   "execution_count": null,
   "metadata": {},
   "outputs": [],
   "source": [
    "# Betten Gesamt\n",
    "fig = px.line(intensiv_df, x='gemeindeschluessel', y='betten_ges', title=\"Auslastung Intensivbetten (Blau Betten ges.)\")\n",
    "\n",
    "# Betten belegt\n",
    "fig.add_scatter(x=intensiv_df['gemeindeschluessel'], y=intensiv_df['betten_belegt'], name='Betten belegt')# Not what is desired - need a line  \n",
    "\n",
    "# Covid Fälle Aktuell \n",
    "fig.add_scatter(x=intensiv_df['gemeindeschluessel'], y=intensiv_df['faelle_covid_aktuell'], name='von Covid belegt')# Not what is desired - need\n",
    "\n",
    "# Show plot \n",
    "fig.show(renderer=\"png\", width=1000, height=750)"
   ]
  },
  {
   "cell_type": "markdown",
   "metadata": {},
   "source": [
    "<h2>Entwicklung Anzahl Krankenhäuser, Betten, Fallzahlen und Belegungstage in D</h2>"
   ]
  },
  {
   "cell_type": "markdown",
   "metadata": {},
   "source": [
    "Jahre 1991 - 2018 (für 2019 und 2020 liegen keine offiziellen Zahlen vor\n",
    "                   \n",
    "Quelle: www.gbe-bund.de erstellt am 03.11.2020 "
   ]
  },
  {
   "cell_type": "code",
   "execution_count": null,
   "metadata": {},
   "outputs": [],
   "source": [
    "hospital_sort = hospital_df.sort_values('jahr', ascending=False)"
   ]
  },
  {
   "cell_type": "code",
   "execution_count": null,
   "metadata": {},
   "outputs": [],
   "source": [
    "hospital_sort.head(28)"
   ]
  },
  {
   "cell_type": "code",
   "execution_count": null,
   "metadata": {},
   "outputs": [],
   "source": [
    "hospital_df1 = hospital_df.sort_values('jahr', ascending=True)\n",
    "\n",
    "fig = px.bar(hospital_df1, x=\"jahr\", y=\"anzahl_kh\", color=\"anzahl_kh\",title='Entwicklung Anzahl Krankenhäuser')\n",
    "fig.show(renderer=\"png\", width=1000, height=750)"
   ]
  },
  {
   "cell_type": "code",
   "execution_count": null,
   "metadata": {},
   "outputs": [],
   "source": [
    "hospital_df2 = hospital_df.sort_values('jahr', ascending=True)\n",
    "\n",
    "fig = px.bar(hospital_df2, x=\"jahr\", y=\"betten\", color=\"betten\", title=\"Entwicklung Anzahl Krankenhaus Betten 1991-2018\")\n",
    "fig.show(renderer=\"png\", width=1000, height=750)"
   ]
  },
  {
   "cell_type": "code",
   "execution_count": null,
   "metadata": {},
   "outputs": [],
   "source": [
    "hospital_df3 = hospital_df.sort_values('jahr', ascending=True)\n",
    "fig = px.bar(hospital_df3, x=\"jahr\", y=\"fallzahlen\", color=\"fallzahlen\", title='Entwicklung Anz. Krankenhaus Fallzahlen 1991-2018')\n",
    "fig.show(renderer=\"png\", width=1000, height=750)"
   ]
  },
  {
   "cell_type": "code",
   "execution_count": null,
   "metadata": {},
   "outputs": [],
   "source": [
    "hospital_df4 = hospital_df.sort_values('jahr', ascending=True)\n",
    "fig = px.bar(hospital_df4, x=\"jahr\", y=\"beleg_tage_1000\", color=\"beleg_tage_1000\", title='Entwicklung Krankenhaus Belegtage (in Tausend) 1991-2018')\n",
    "fig.show(renderer=\"png\", width=1000, height=750)"
   ]
  },
  {
   "cell_type": "code",
   "execution_count": null,
   "metadata": {},
   "outputs": [],
   "source": [
    "hospital_df5 = hospital_df.sort_values('jahr', ascending=True)\n",
    "fig = px.bar(hospital_df5, x=\"jahr\", y=\"aerzte\", color=\"aerzte\", title='Entwicklung Krankenhaus Aerzte 1994-2017')\n",
    "fig.show(renderer=\"png\", width=1000, height=750)"
   ]
  },
  {
   "cell_type": "code",
   "execution_count": null,
   "metadata": {},
   "outputs": [],
   "source": [
    "hospital_df6 = hospital_df.sort_values('jahr', ascending=True)\n",
    "fig = px.bar(hospital_df6, x=\"jahr\", y=\"pfleger\", color=\"pfleger\", title='Entwicklung Krankenhaus Personal 1994-2017')\n",
    "fig.show(renderer=\"png\", width=1000, height=750)"
   ]
  },
  {
   "cell_type": "code",
   "execution_count": null,
   "metadata": {},
   "outputs": [],
   "source": [
    "hospital_df7 = hospital_df.sort_values('jahr', ascending=True)\n",
    "fig = px.bar(hospital_df7, x=\"jahr\", y=\"sonst_pers\", color=\"sonst_pers\", title='Entwicklung Krankenhaus Personal 1994-2017')\n",
    "fig.show(renderer=\"png\", width=1000, height=750)"
   ]
  },
  {
   "cell_type": "code",
   "execution_count": null,
   "metadata": {},
   "outputs": [],
   "source": []
  }
 ],
 "metadata": {
  "kernelspec": {
   "display_name": "Python 3",
   "language": "python",
   "name": "python3"
  },
  "language_info": {
   "codemirror_mode": {
    "name": "ipython",
    "version": 3
   },
   "file_extension": ".py",
   "mimetype": "text/x-python",
   "name": "python",
   "nbconvert_exporter": "python",
   "pygments_lexer": "ipython3",
   "version": "3.7.9"
  }
 },
 "nbformat": 4,
 "nbformat_minor": 4
}
